{
 "cells": [
  {
   "cell_type": "code",
   "execution_count": 10,
   "id": "9d95ac8e-9523-4c71-bbbe-535230accec1",
   "metadata": {},
   "outputs": [
    {
     "name": "stdout",
     "output_type": "stream",
     "text": [
      "[1, 2, 3, 4, 5, 6, 7, 8, 9, 10, 11, 12, 13, 14, 15, 16, 17, 18, 19, 20, 21, 22, 23, 24, 25, 26, 27, 28, 29, 30, 31, 32, 33, 34, 35, 36, 37, 38, 39, 40, 41, 42, 43, 44, 45, 46, 47, 48, 49, 50, 51, 52, 53, 54, 55, 56, 57, 58, 59, 60, 61, 62, 63, 64, 65, 66, 67, 68, 69, 70, 71, 72, 73, 74, 75, 76, 77, 78, 79, 80, 81, 82, 83, 84, 85, 86, 87, 88, 89, 90, 91, 92, 93, 94, 95, 96, 97, 98, 99]\n"
     ]
    }
   ],
   "source": [
    "natural_numbers = list(range(1, 100))\n",
    "print(natural_numbers)"
   ]
  },
  {
   "cell_type": "code",
   "execution_count": 14,
   "id": "5a32264f-f0eb-43a1-8968-d102409d7a7d",
   "metadata": {},
   "outputs": [
    {
     "name": "stdout",
     "output_type": "stream",
     "text": [
      "[1, 3, 5, 7, 9, 11, 13, 15, 17, 19, 21, 23, 25, 27, 29, 31, 33, 35, 37, 39, 41, 43, 45, 47, 49, 51, 53, 55, 57, 59, 61, 63, 65, 67, 69, 71, 73, 75, 77, 79, 81, 83, 85, 87, 89, 91, 93, 95, 97, 99]\n"
     ]
    }
   ],
   "source": [
    "odd_numbers = [number for number in natural_numbers if number % 2 == 1]\n",
    "print(odd_numbers)"
   ]
  },
  {
   "cell_type": "code",
   "execution_count": 15,
   "id": "dcf42929-e73a-48cc-ae44-1bf7b9c089fd",
   "metadata": {},
   "outputs": [
    {
     "name": "stdout",
     "output_type": "stream",
     "text": [
      "[2, 6, 10, 14, 18, 22, 26, 30, 34, 38, 42, 46, 50, 54, 58, 62, 66, 70, 74, 78, 82, 86, 90, 94, 98, 102, 106, 110, 114, 118, 122, 126, 130, 134, 138, 142, 146, 150, 154, 158, 162, 166, 170, 174, 178, 182, 186, 190, 194, 198]\n"
     ]
    }
   ],
   "source": [
    "doubled_odd_numbers = [number * 2 for number in odd_numbers]\n",
    "print(doubled_odd_numbers)"
   ]
  },
  {
   "cell_type": "code",
   "execution_count": 41,
   "id": "0fd15725-140c-46d2-9bd9-95e2e3d835c0",
   "metadata": {},
   "outputs": [
    {
     "data": {
      "text/plain": [
       "array([[10, 12],\n",
       "       [16, 18]])"
      ]
     },
     "execution_count": 41,
     "metadata": {},
     "output_type": "execute_result"
    }
   ],
   "source": [
    "import numpy as np\n",
    "\n",
    "# Create a 3x3 array containing numbers from 1 to 9\n",
    "original_array = np.arange(1, 10).reshape(3, 3)\n",
    "\n",
    "# Double the array\n",
    "doubled_array = original_array * 2\n",
    "\n",
    "# Select the bottom-right four numbers\n",
    "bottom_4 = doubled_array[-2:, -2:]\n",
    "bottom_4\n"
   ]
  },
  {
   "cell_type": "code",
   "execution_count": 42,
   "id": "ff9b5cb3-bc2b-4b41-81c0-3c8a7b459e1e",
   "metadata": {},
   "outputs": [
    {
     "data": {
      "text/plain": [
       "[(1, 'a'),\n",
       " (2, 'b'),\n",
       " (3, 'c'),\n",
       " (4, 'd'),\n",
       " (5, 'e'),\n",
       " (6, 'f'),\n",
       " (7, 'g'),\n",
       " (8, 'h')]"
      ]
     },
     "execution_count": 42,
     "metadata": {},
     "output_type": "execute_result"
    }
   ],
   "source": [
    "list_1 = [1, 2, 3, 4, 5, 6, 7, 8]\n",
    "list_2 = ['a', 'b', 'c', 'd', 'e', 'f', 'g', 'h']\n",
    "list_3 = list(zip(list_1, list_2))\n",
    "list_3"
   ]
  },
  {
   "cell_type": "code",
   "execution_count": 49,
   "id": "256a4a3f-8f92-4b2f-a259-d2734ce4d168",
   "metadata": {},
   "outputs": [
    {
     "name": "stdout",
     "output_type": "stream",
     "text": [
      "Original size: torch.Size([4, 4])\n",
      "tensor([[-2.5095e+00,  4.8800e-01,  7.8459e-01,  2.8647e-02],\n",
      "        [ 6.4076e-01,  5.8325e-01,  1.0669e+00, -4.5015e-01],\n",
      "        [-1.8527e-01,  7.5276e-01,  4.0476e-01,  1.7847e-01],\n",
      "        [ 2.6491e-01,  1.2732e+00, -1.3109e-03, -3.0360e-01]])\n",
      "Reshaped size: torch.Size([16])\n",
      "tensor([-2.5095e+00,  4.8800e-01,  7.8459e-01,  2.8647e-02,  6.4076e-01,  5.8325e-01,  1.0669e+00, -4.5015e-01, -1.8527e-01,  7.5276e-01,  4.0476e-01,  1.7847e-01,  2.6491e-01,  1.2732e+00,\n",
      "        -1.3109e-03, -3.0360e-01])\n"
     ]
    }
   ],
   "source": [
    "import torch\n",
    "\n",
    "# Create a 4x4 random tensor\n",
    "x = torch.randn(4, 4)\n",
    "print(\"Original size:\", x.size())\n",
    "print(x)\n",
    "\n",
    "# Reshape it into a 1D tensor (flattening)\n",
    "y = x.view(16)\n",
    "print(\"Reshaped size:\", y.size())\n",
    "print(y)"
   ]
  },
  {
   "cell_type": "code",
   "execution_count": null,
   "id": "06839892-10d1-4b41-a909-6257701020c4",
   "metadata": {},
   "outputs": [],
   "source": []
  }
 ],
 "metadata": {
  "kernelspec": {
   "display_name": "Python 3 (ipykernel)",
   "language": "python",
   "name": "python3"
  },
  "language_info": {
   "codemirror_mode": {
    "name": "ipython",
    "version": 3
   },
   "file_extension": ".py",
   "mimetype": "text/x-python",
   "name": "python",
   "nbconvert_exporter": "python",
   "pygments_lexer": "ipython3",
   "version": "3.12.2"
  }
 },
 "nbformat": 4,
 "nbformat_minor": 5
}
